{
 "cells": [
  {
   "cell_type": "markdown",
   "metadata": {},
   "source": [
    "Превърнете Келвин градуси във Фаренхайт или Целзиеви градуси, и обратното. При въвеждане използвайте следия запис -- 30C, 78F, 300K\n",
    "\n",
    "Convert Kelvin degrees to Fahrenheit or Celsius, and vice versa. When entering, use the following recording - 30C, 78F, 300K\n",
    "\n",
    "При следните формули. / With the following formulas. \n",
    "\n",
    "    C = (5/9) * (F - 32)\n",
    "    K = C + 273.15\n"
   ]
  },
  {
   "cell_type": "markdown",
   "metadata": {},
   "source": [
    "## Python variant"
   ]
  },
  {
   "cell_type": "code",
   "execution_count": null,
   "metadata": {},
   "outputs": [],
   "source": [
    "# F = K * 1.8 - 459.67\n",
    "# K = (F + 459.67) * 5/9\n",
    "# C = (F - 32) * 5/9\n",
    "# K = C + 273.15\n",
    "import sys\n",
    "\n",
    "temp = input(\"Input T deg to convert? (e.g., 30C, 78F, 300K etc.) : \")\n",
    "\n",
    "degree = eval(temp[:-1])\n",
    "print('degree ',degree)\n",
    "in_conv = temp[-1]\n",
    "if not in_conv.isalpha():\n",
    "    print(\"Input proper convention.\")\n",
    "    sys.exit(0)\n",
    "\n",
    "result = [0,0]\n",
    "out_conv = [' ',' ']\n",
    "\n",
    "if in_conv.upper() == \"C\":\n",
    "    if degree < -273.15:\n",
    "        print('Error: wrong Celsius degree!')\n",
    "        sys.exit(1)\n",
    "    result[0] = round((9 * degree) / 5 + 32, 2)\n",
    "    out_conv[0] = \"Fahrenheit\"\n",
    "    result[1] = round(degree + 273.15, 2)\n",
    "    out_conv[1] = \"Kelvin\"\n",
    "\n",
    "elif in_conv.upper() == \"F\":\n",
    "    if degree < -459.67:\n",
    "        print('Error: wrong Fahrenheit degree!')\n",
    "        sys.exit(1)\n",
    "    result[0] = round((degree - 32) * 5 / 9, 2)\n",
    "    out_conv[0] = \"Celsius\"\n",
    "    result[1] = round((degree + 459.67) * 5 / 9, 2)\n",
    "    out_conv[1] = \"Kelvin\"\n",
    "\n",
    "elif in_conv.upper() == \"K\":\n",
    "    if degree < 0:\n",
    "        print('Error: wrong Kelvin degree!')\n",
    "        sys.exit(1)\n",
    "    result[0] = round(degree - 273.15, 2)\n",
    "    out_conv[0] = \"Celsius\"\n",
    "    result[1] = round(degree * 1.8 - 459.67, 2)\n",
    "    out_conv[1] = \"Fahrenheit\"\n",
    "\n",
    "else:\n",
    "    print(\"Input proper convention.\")\n",
    "    sys.exit(1)\n",
    "    \n",
    "print(f\"The temperature in {out_conv[0]} is {result[0]} degrees\")\n",
    "print(f\"The temperature in {out_conv[1]} is {result[1]} degrees\")"
   ]
  },
  {
   "cell_type": "code",
   "execution_count": null,
   "metadata": {},
   "outputs": [],
   "source": []
  },
  {
   "cell_type": "markdown",
   "metadata": {},
   "source": [
    "## Flask variant"
   ]
  },
  {
   "cell_type": "code",
   "execution_count": 2,
   "metadata": {},
   "outputs": [
    {
     "name": "stdout",
     "output_type": "stream",
     "text": [
      "Writing tconv.py\n"
     ]
    }
   ],
   "source": [
    "%%writefile tconv.py\n",
    "from flask import Flask, redirect, url_for, request, render_template\n",
    "\n",
    "app = Flask(__name__)\n",
    "\n",
    "@app.route('/success', methods=['GET','POST'])\n",
    "def success(): \n",
    "    if request.method == 'POST':\n",
    "        deg = eval(request.form['degree'])\n",
    "        typC = request.form['test']\n",
    "            \n",
    "        result = [0,0,0]\n",
    "        out_conv = [' ',' ',' ']\n",
    "\n",
    "        if typC.upper() == \"C\":\n",
    "            if deg < -273.15:\n",
    "                return 'Error: wrong Celsius degree!'\n",
    "            result[2] = deg\n",
    "            out_conv[2] = \"Celsius\"\n",
    "\n",
    "            result[0] = round((9 * deg) / 5 + 32, 2)\n",
    "            out_conv[0] = \"Fahrenheit\"\n",
    "            result[1] = round(deg + 273.15, 2)\n",
    "            out_conv[1] = \"Kelvin\"\n",
    "\n",
    "        elif typC.upper() == \"F\":\n",
    "            if deg < -459.67:\n",
    "                return 'Error: wrong Fahrenheit degree!'\n",
    "            result[2] = deg\n",
    "            out_conv[2] = \"Fahrenheit\"\n",
    "\n",
    "            result[0] = round((deg - 32) * 5 / 9, 2)\n",
    "            out_conv[0] = \"Celsius\"\n",
    "            result[1] = round((deg + 459.67) * 5 / 9, 2)\n",
    "            out_conv[1] = \"Kelvin\"\n",
    "\n",
    "        elif typC.upper() == \"K\":\n",
    "            if deg < 0:\n",
    "                return 'Error: wrong Kelvin degree!'\n",
    "            result[2] = deg\n",
    "            out_conv[2] = \"Kelvin\"\n",
    "\n",
    "            result[0] = round(deg - 273.15, 2)\n",
    "            out_conv[0] = \"Celsius\"\n",
    "            result[1] = round(deg * 1.8 - 459.67, 2)\n",
    "            out_conv[1] = \"Fahrenheit\"\n",
    "\n",
    "        else:\n",
    "            return 'Input proper convention.'\n",
    "\n",
    "        tm2 = 'The temperature {} deg {}:'.format(result[2],out_conv[2])\n",
    "        tm0 = '&emsp; In {} is {} degrees'.format(out_conv[0],result[0])\n",
    "        tm1 = '&emsp; In {} is {} degrees'.format(out_conv[1],result[1])\n",
    "        return (tm2 + '</br>' + tm0 + '</br>' + tm1)\n",
    "\n",
    "    \n",
    "@app.route('/')\n",
    "def form():\n",
    "    return render_template('tconv.html')\n",
    "\n",
    "\n",
    "if __name__ == '__main__':\n",
    "    app.run(host='0.0.0.0', port= 6050)\n",
    "\n"
   ]
  },
  {
   "cell_type": "code",
   "execution_count": 3,
   "metadata": {},
   "outputs": [
    {
     "name": "stdout",
     "output_type": "stream",
     "text": [
      "Writing templates/tconv.html\n"
     ]
    }
   ],
   "source": [
    "%%writefile templates/tconv.html\n",
    "<html>\n",
    "<head><style>\n",
    "   div.a {\n",
    "     text-align: left;\n",
    "     text-align-last: left;\n",
    "     position: absolute;\n",
    "     left: 50px;\n",
    "   }\n",
    "   div.b {\n",
    "     text-align: left;\n",
    "     text-align-last: left;\n",
    "     position: absolute;\n",
    "     left: 80px;\n",
    "   }\n",
    "\n",
    "</style></head>\n",
    "\n",
    "<body>\n",
    "  <h2>Temperature Conversion</h2>\n",
    "\n",
    "  <form action = \"http://localhost:6050/success\" method = \"post\">\n",
    "     <div class=\"a\">\n",
    "         <p>Enter the temperature in degrees :</p>\n",
    "         <p><input type = \"text\" name = \"degree\" /></p>\n",
    "         <p>Select temperature scale:</p>\n",
    "\n",
    "         <div class=\"b\">\n",
    "             <label>\n",
    "                <input type=\"radio\" name=\"test\" value=\"C\" checked> Celsius</label></br>\n",
    "             <label>\n",
    "                <input type=\"radio\" name=\"test\" value=\"F\"> Fahrenheit</label></br>\n",
    "             <label>\n",
    "                <input type=\"radio\" name=\"test\" value=\"K\"> Kelvin</label></br>\n",
    "\n",
    "             <p><input type = \"submit\" value = \"submit\" /></p>\n",
    "         </div>\n",
    "    </div>\n",
    "  </form>\n",
    "\n",
    "</body>\n",
    "</html>\n",
    "\n"
   ]
  },
  {
   "cell_type": "code",
   "execution_count": null,
   "metadata": {},
   "outputs": [],
   "source": []
  }
 ],
 "metadata": {
  "kernelspec": {
   "display_name": "Python 3",
   "language": "python",
   "name": "python3"
  },
  "language_info": {
   "codemirror_mode": {
    "name": "ipython",
    "version": 3
   },
   "file_extension": ".py",
   "mimetype": "text/x-python",
   "name": "python",
   "nbconvert_exporter": "python",
   "pygments_lexer": "ipython3",
   "version": "3.7.0"
  }
 },
 "nbformat": 4,
 "nbformat_minor": 2
}
